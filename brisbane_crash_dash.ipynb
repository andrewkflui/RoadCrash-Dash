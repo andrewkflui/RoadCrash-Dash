{
 "cells": [
  {
   "cell_type": "code",
   "execution_count": null,
   "metadata": {},
   "outputs": [],
   "source": [
    "! pip install dash   \n",
    "! pip install dash-html-components                                         \n",
    "! pip install dash-core-components \n",
    "! pip install dash-bootstrap-components                                  \n",
    "! pip install plotly"
   ]
  },
  {
   "cell_type": "code",
   "execution_count": null,
   "metadata": {},
   "outputs": [],
   "source": [
    "import pandas as pd\n",
    "import plotly.graph_objects as go\n",
    "import plotly.express as px\n",
    "import sys"
   ]
  },
  {
   "cell_type": "code",
   "execution_count": null,
   "metadata": {},
   "outputs": [],
   "source": [
    "class CrashData():\n",
    "    def __init__(self, csvfile='./data/crash_data_queensland_1_crash_locations.csv'):\n",
    "        try:\n",
    "            self.df = pd.read_csv(csvfile, index_col=0)\n",
    "            print(f'The shape before cleansing {self.df.shape}')\n",
    "            self.df = self.df[self.df['Loc_Local_Government_Area'] != 'Unknown']\n",
    "            print(f'The shape after cleansing {self.df.shape}')\n",
    "        except:\n",
    "            sys.exit('Unable to load data file')\n",
    "        self.year_min, self.year_max = self.df['Crash_Year'].min().item(), self.df['Crash_Year'].max().item()\n",
    "        self.center_long, self.center_lat = self.df['Crash_Longitude'].mean().item(), self.df['Crash_Latitude'].mean().item()\n",
    "        self.center_long, self.center_lat = 153.0260, -27.4705\n",
    "        self.crashtype_list = self.df['Crash_Type'].unique().tolist()\n",
    "        \n",
    "\n",
    "data = CrashData()\n",
    "df = data.df\n",
    "\n",
    "def plot_crash_location():\n",
    "    pdf = df\n",
    "    fig = px.scatter_mapbox(pdf, lat=pdf['Crash_Latitude'], lon=pdf['Crash_Longitude'], color='Crash_Type', \n",
    "        zoom=8, height=600, title=None, opacity=.5, \n",
    "        center={'lat': data.center_lat, 'lon': data.center_long}\n",
    "        )\n",
    "    fig.update_layout(mapbox_style='open-street-map', margin={\"r\": 0, \"l\": 0, \"b\": 20})\n",
    "    fig['layout']['uirevision'] = 'unchanged'\n",
    "    return fig \n",
    "\n",
    "plot_crash_location()"
   ]
  }
 ],
 "metadata": {
  "kernelspec": {
   "display_name": "py37",
   "language": "python",
   "name": "python3"
  },
  "language_info": {
   "codemirror_mode": {
    "name": "ipython",
    "version": 3
   },
   "file_extension": ".py",
   "mimetype": "text/x-python",
   "name": "python",
   "nbconvert_exporter": "python",
   "pygments_lexer": "ipython3",
   "version": "3.7.13"
  },
  "orig_nbformat": 4,
  "vscode": {
   "interpreter": {
    "hash": "7e7a7d138e1807293d1e3f8013295cd32ce1ecfefa78d2e112676f884ff9955c"
   }
  }
 },
 "nbformat": 4,
 "nbformat_minor": 2
}
